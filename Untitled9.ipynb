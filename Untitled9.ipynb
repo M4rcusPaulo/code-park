{
  "nbformat": 4,
  "nbformat_minor": 0,
  "metadata": {
    "colab": {
      "provenance": [],
      "authorship_tag": "ABX9TyPZzKCZaouvZJ7qXg60yFx+",
      "include_colab_link": true
    },
    "kernelspec": {
      "name": "python3",
      "display_name": "Python 3"
    },
    "language_info": {
      "name": "python"
    }
  },
  "cells": [
    {
      "cell_type": "markdown",
      "metadata": {
        "id": "view-in-github",
        "colab_type": "text"
      },
      "source": [
        "<a href=\"https://colab.research.google.com/github/M4rcusPaulo/code-park/blob/main/Untitled9.ipynb\" target=\"_parent\"><img src=\"https://colab.research.google.com/assets/colab-badge.svg\" alt=\"Open In Colab\"/></a>"
      ]
    },
    {
      "cell_type": "code",
      "execution_count": 11,
      "metadata": {
        "colab": {
          "base_uri": "https://localhost:8080/"
        },
        "id": "5veuLu859O0w",
        "outputId": "cbf52529-7991-495c-beae-359d3ea9af66"
      },
      "outputs": [
        {
          "output_type": "stream",
          "name": "stdout",
          "text": [
            "produtos do hortifrut\n",
            "anos do nascimento\n"
          ]
        }
      ],
      "source": [
        "produtos_hortifrut = [\"verduras\", \"legumes\", \"frutas\"]\n",
        "print(\"produtos do hortifrut\")\n",
        "anos_nascimentos = [1995, 1997, 2000, 2003]\n",
        "print(\"anos do nascimento\")\n"
      ]
    }
  ]
}