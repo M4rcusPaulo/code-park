{
  "nbformat": 4,
  "nbformat_minor": 0,
  "metadata": {
    "colab": {
      "provenance": [],
      "authorship_tag": "ABX9TyOn7b10ZUiYQ+4P5PXtQPPo",
      "include_colab_link": true
    },
    "kernelspec": {
      "name": "python3",
      "display_name": "Python 3"
    },
    "language_info": {
      "name": "python"
    }
  },
  "cells": [
    {
      "cell_type": "markdown",
      "metadata": {
        "id": "view-in-github",
        "colab_type": "text"
      },
      "source": [
        "<a href=\"https://colab.research.google.com/github/M4rcusPaulo/code-park/blob/main/Untitled6.ipynb\" target=\"_parent\"><img src=\"https://colab.research.google.com/assets/colab-badge.svg\" alt=\"Open In Colab\"/></a>"
      ]
    },
    {
      "cell_type": "code",
      "source": [
        "for i in range(1, 21):\n",
        "  if i!=13:\n",
        "    print(\"apto\", i)"
      ],
      "metadata": {
        "colab": {
          "base_uri": "https://localhost:8080/"
        },
        "id": "9uPHaBNJPF5A",
        "outputId": "4415c9e6-649c-430b-945e-e5f6685c071e"
      },
      "execution_count": null,
      "outputs": [
        {
          "output_type": "stream",
          "name": "stdout",
          "text": [
            "apto 1\n",
            "apto 2\n",
            "apto 3\n",
            "apto 4\n",
            "apto 5\n",
            "apto 6\n",
            "apto 7\n",
            "apto 8\n",
            "apto 9\n",
            "apto 10\n",
            "apto 11\n",
            "apto 12\n",
            "apto 14\n",
            "apto 15\n",
            "apto 16\n",
            "apto 17\n",
            "apto 18\n",
            "apto 19\n",
            "apto 20\n"
          ]
        }
      ]
    },
    {
      "cell_type": "code",
      "source": [
        "i = 1\n",
        "while i < 21:\n",
        "   print(\"apto \" + str(i))\n",
        "   i = i + 1\n"
      ],
      "metadata": {
        "colab": {
          "base_uri": "https://localhost:8080/"
        },
        "id": "C3ETH5AUUCTh",
        "outputId": "9fc29e64-b2bf-4e42-8450-f8314cec4fab"
      },
      "execution_count": null,
      "outputs": [
        {
          "output_type": "stream",
          "name": "stdout",
          "text": [
            "apto 1\n",
            "apto 2\n",
            "apto 3\n",
            "apto 4\n",
            "apto 5\n",
            "apto 6\n",
            "apto 7\n",
            "apto 8\n",
            "apto 9\n",
            "apto 10\n",
            "apto 11\n",
            "apto 12\n",
            "apto 13\n",
            "apto 14\n",
            "apto 15\n",
            "apto 16\n",
            "apto 17\n",
            "apto 18\n",
            "apto 19\n",
            "apto 20\n"
          ]
        }
      ]
    },
    {
      "cell_type": "code",
      "source": [
        " for apto in range(1):\n",
        "   print(1, 2, 3, 4, 5, 6, 7, 8, 9, 10, 11, 12, 14, 15, 16, 17, 18, 19, 20)\n"
      ],
      "metadata": {
        "colab": {
          "base_uri": "https://localhost:8080/"
        },
        "id": "-I4jqhC-SFYq",
        "outputId": "682c0bfe-e14a-40f1-bce1-6946f9d0aef8"
      },
      "execution_count": null,
      "outputs": [
        {
          "output_type": "stream",
          "name": "stdout",
          "text": [
            "1 2 3 4 5 6 7 8 9 10 11 12 14 15 16 17 18 19 20\n"
          ]
        }
      ]
    },
    {
      "cell_type": "code",
      "source": [
        "for i in range(20, -1, -1):\n",
        " if i!=13:\n",
        "  print(\"apto \" + str(i))"
      ],
      "metadata": {
        "colab": {
          "base_uri": "https://localhost:8080/"
        },
        "id": "VHmQ23OdS8Fc",
        "outputId": "ee0a79a2-a5ac-4fd9-b641-e6916b9db558"
      },
      "execution_count": null,
      "outputs": [
        {
          "output_type": "stream",
          "name": "stdout",
          "text": [
            "apto 20\n",
            "apto 19\n",
            "apto 18\n",
            "apto 17\n",
            "apto 16\n",
            "apto 15\n",
            "apto 14\n",
            "apto 12\n",
            "apto 11\n",
            "apto 10\n",
            "apto 9\n",
            "apto 8\n",
            "apto 7\n",
            "apto 6\n",
            "apto 5\n",
            "apto 4\n",
            "apto 3\n",
            "apto 2\n",
            "apto 1\n",
            "apto 0\n"
          ]
        }
      ]
    },
    {
      "cell_type": "code",
      "source": [],
      "metadata": {
        "id": "r0yT6ZMBUA38"
      },
      "execution_count": null,
      "outputs": []
    }
  ]
}