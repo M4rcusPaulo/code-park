{
  "nbformat": 4,
  "nbformat_minor": 0,
  "metadata": {
    "colab": {
      "provenance": [],
      "authorship_tag": "ABX9TyN6Mi01vxRibPg4g6yBgnUw",
      "include_colab_link": true
    },
    "kernelspec": {
      "name": "python3",
      "display_name": "Python 3"
    },
    "language_info": {
      "name": "python"
    }
  },
  "cells": [
    {
      "cell_type": "markdown",
      "metadata": {
        "id": "view-in-github",
        "colab_type": "text"
      },
      "source": [
        "<a href=\"https://colab.research.google.com/github/M4rcusPaulo/code-park/blob/main/Untitled8.ipynb\" target=\"_parent\"><img src=\"https://colab.research.google.com/assets/colab-badge.svg\" alt=\"Open In Colab\"/></a>"
      ]
    },
    {
      "cell_type": "code",
      "source": [
        "def calcular_idade(ano_nascimento):\n",
        "    ano_atual = datetime.now().year\n",
        "    return ano_atual - ano_nascimento\n",
        "while True:\n",
        "    try:\n",
        "        nome = input(\"Digite seu nome completo: \").strip()\n",
        "\n",
        "        ano_nascimento = int(input(\"Digite seu ano de nascimento (entre 1922 e 2001): \"))\n",
        "\n",
        "        if 1922 >= ano_nascimento <= 2001:\n",
        "            idade = calcular_idade(ano_nascimento)\n",
        "            print(f\"\\n{nome}, você completou ou completará {idade} anos em 2025.\")\n",
        "            break\n",
        "        else:\n",
        "            print(\"Ano fora do intervalo permitido. Tente novamente.\\n\")\n",
        "    except ValueError:\n",
        "        print(\"Entrada inválida. Por favor, insira um ano válido (número).\\n\")"
      ],
      "metadata": {
        "id": "UnaGI6v9NTL0"
      },
      "execution_count": null,
      "outputs": []
    }
  ]
}