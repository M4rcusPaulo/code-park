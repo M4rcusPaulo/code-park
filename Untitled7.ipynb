{
  "nbformat": 4,
  "nbformat_minor": 0,
  "metadata": {
    "colab": {
      "provenance": [],
      "authorship_tag": "ABX9TyO3COzcziffge96jMWh9Gwp",
      "include_colab_link": true
    },
    "kernelspec": {
      "name": "python3",
      "display_name": "Python 3"
    },
    "language_info": {
      "name": "python"
    }
  },
  "cells": [
    {
      "cell_type": "markdown",
      "metadata": {
        "id": "view-in-github",
        "colab_type": "text"
      },
      "source": [
        "<a href=\"https://colab.research.google.com/github/M4rcusPaulo/code-park/blob/main/Untitled7.ipynb\" target=\"_parent\"><img src=\"https://colab.research.google.com/assets/colab-badge.svg\" alt=\"Open In Colab\"/></a>"
      ]
    },
    {
      "cell_type": "code",
      "execution_count": 19,
      "metadata": {
        "colab": {
          "base_uri": "https://localhost:8080/"
        },
        "id": "fq0jwcdvq4Ll",
        "outputId": "42d2b2a8-5ffa-4331-dc86-854d952cc27c"
      },
      "outputs": [
        {
          "output_type": "stream",
          "name": "stdout",
          "text": [
            "resultado 15\n",
            "resultado 2.0\n",
            "resultado 0\n"
          ]
        }
      ],
      "source": [
        "def calculadora(num1, num2, operacao):\n",
        "  if operacao == 1:\n",
        "     return num1 + num2\n",
        "  elif operacao == 2:\n",
        "     return num1 - num2\n",
        "  elif operacao == 3:\n",
        "     return num1 * num2\n",
        "  elif operacao == 4:\n",
        "     if num2 != 0:\n",
        "       return num1 / num2\n",
        "     else:\n",
        "       return \"erro divisão por zero\"\n",
        "  else:\n",
        "      return 0\n",
        "\n",
        "resultado = calculadora(10, 5, 1)\n",
        "print(\"resultado\", resultado)\n",
        "resultado = calculadora(10, 5, 4)\n",
        "print(\"resultado\", resultado)\n",
        "resultado = calculadora(10, 5, 5)\n",
        "print(\"resultado\", resultado)\n"
      ]
    }
  ]
}