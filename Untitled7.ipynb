{
  "nbformat": 4,
  "nbformat_minor": 0,
  "metadata": {
    "colab": {
      "provenance": [],
      "authorship_tag": "ABX9TyNrExlITLquFhJnho2RnbPC",
      "include_colab_link": true
    },
    "kernelspec": {
      "name": "python3",
      "display_name": "Python 3"
    },
    "language_info": {
      "name": "python"
    }
  },
  "cells": [
    {
      "cell_type": "markdown",
      "metadata": {
        "id": "view-in-github",
        "colab_type": "text"
      },
      "source": [
        "<a href=\"https://colab.research.google.com/github/M4rcusPaulo/code-park/blob/main/Untitled7.ipynb\" target=\"_parent\"><img src=\"https://colab.research.google.com/assets/colab-badge.svg\" alt=\"Open In Colab\"/></a>"
      ]
    },
    {
      "cell_type": "code",
      "source": [
        "def calculadora():\n",
        "    while True:\n",
        "        print(\"\\nEscolha a operação desejada:\")\n",
        "        print(\"1: Soma\")\n",
        "        print(\"2: Subtração\")\n",
        "        print(\"3: Multiplicação\")\n",
        "        print(\"4: Divisão\")\n",
        "        print(\"0: Sair\")\n",
        "        opcao = input(\"Digite o número da operação: \")\n",
        "\n",
        "        if opcao == \"0\":\n",
        "            print(\"Saindo do programa. Até mais!\")\n",
        "            break\n",
        "        elif opcao in [\"1\", \"2\", \"3\", \"4\"]:\n",
        "            try:\n",
        "                num1 = float(input(\"Digite o primeiro número: \"))\n",
        "                num2 = float(input(\"Digite o segundo número: \"))\n",
        "\n",
        "                if opcao == \"1\":\n",
        "                    resultado = num1 + num2\n",
        "                    print(f\"Resultado da soma: {resultado}\")\n",
        "                elif opcao == \"2\":\n",
        "                    resultado = num1 - num2\n",
        "                    print(f\"Resultado da subtração: {resultado}\")\n",
        "                elif opcao == \"3\":\n",
        "                    resultado = num1 * num2\n",
        "                    print(f\"Resultado da multiplicação: {resultado}\")\n",
        "                elif opcao == \"4\":\n",
        "                    if num2 != 0:\n",
        "                        resultado = num1 / num2\n",
        "                        print(f\"Resultado da divisão: {resultado}\")\n",
        "                    else:\n",
        "                        print(\"Erro: Divisão por zero não é permitida.\")\n",
        "            except ValueError:\n",
        "                print(\"Erro: Por favor, insira valores numéricos válidos.\")\n",
        "        else:\n",
        "            print(\"Essa opção não existe.\")\n"
      ],
      "metadata": {
        "id": "I2b0B168zsDu"
      },
      "execution_count": 24,
      "outputs": []
    }
  ]
}